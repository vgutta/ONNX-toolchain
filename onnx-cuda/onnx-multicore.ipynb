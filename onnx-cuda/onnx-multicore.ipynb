{
 "cells": [
  {
   "cell_type": "code",
   "execution_count": 1,
   "id": "completed-boston",
   "metadata": {},
   "outputs": [
    {
     "data": {
      "text/plain": [
       "'GPU'"
      ]
     },
     "execution_count": 1,
     "metadata": {},
     "output_type": "execute_result"
    }
   ],
   "source": [
    "import onnxruntime as ort\n",
    "ort.get_device()"
   ]
  },
  {
   "cell_type": "code",
   "execution_count": 55,
   "id": "clinical-wesley",
   "metadata": {},
   "outputs": [
    {
     "name": "stderr",
     "output_type": "stream",
     "text": [
      "/usr/local/lib/python3.6/dist-packages/sklearn/linear_model/logistic.py:432: FutureWarning: Default solver will be changed to 'lbfgs' in 0.22. Specify a solver to silence this warning.\n",
      "  FutureWarning)\n",
      "/usr/local/lib/python3.6/dist-packages/sklearn/linear_model/logistic.py:459: FutureWarning: Default multi_class will be changed to 'auto' in 0.22. Specify the multi_class option to silence this warning.\n",
      "  \"this warning.\", FutureWarning)\n"
     ]
    },
    {
     "data": {
      "text/plain": [
       "Pipeline(memory=None,\n",
       "     steps=[('pca', PCA(copy=True, iterated_power='auto', n_components=None, random_state=None,\n",
       "  svd_solver='auto', tol=0.0, whiten=False)), ('logistic', LogisticRegression(C=1.0, class_weight=None, dual=False, fit_intercept=True,\n",
       "          intercept_scaling=1, max_iter=100, multi_class='warn',\n",
       "          n_jobs=None, penalty='l2', random_state=None, solver='warn',\n",
       "          tol=0.0001, verbose=0, warm_start=False))])"
      ]
     },
     "execution_count": 55,
     "metadata": {},
     "output_type": "execute_result"
    }
   ],
   "source": [
    "import onnx\n",
    "import numpy\n",
    "from skl2onnx.helpers import collect_intermediate_steps, compare_objects\n",
    "import timeit\n",
    "import onnxruntime as rt\n",
    "from onnxconverter_common.data_types import FloatTensorType\n",
    "from skl2onnx import convert_sklearn, __version__\n",
    "import numpy as np\n",
    "import pandas as pd\n",
    "\n",
    "from sklearn import datasets, __version__ as skl_version\n",
    "from sklearn.decomposition import PCA\n",
    "from sklearn.linear_model import LogisticRegression\n",
    "from sklearn.pipeline import Pipeline\n",
    "\n",
    "logistic = LogisticRegression()\n",
    "pca = PCA()\n",
    "pipe = Pipeline(steps=[('pca', pca), ('logistic', logistic)])\n",
    "\n",
    "digits = datasets.load_digits()\n",
    "X_digits = digits.data[:1000]\n",
    "y_digits = digits.target[:1000]\n",
    "\n",
    "pipe.fit(X_digits, y_digits)"
   ]
  },
  {
   "cell_type": "markdown",
   "id": "altered-thermal",
   "metadata": {},
   "source": [
    "### CPU Execution env"
   ]
  },
  {
   "cell_type": "code",
   "execution_count": 30,
   "id": "occupied-recipe",
   "metadata": {},
   "outputs": [
    {
     "name": "stdout",
     "output_type": "stream",
     "text": [
      "skl predict_proba\n",
      "[[9.60391089e-01 2.32822583e-07 7.32337678e-04 1.46696345e-02\n",
      "  5.59314384e-03 5.01685254e-04 7.49111880e-04 3.26559561e-03\n",
      "  2.91410795e-04 1.38057590e-02]]\n",
      "onnx predict_proba\n",
      "[[9.60390985e-01 2.00624967e-07 7.32338463e-04 1.46696689e-02\n",
      "  5.59310894e-03 5.01677045e-04 7.49133644e-04 3.26562976e-03\n",
      "  2.91422097e-04 1.38057200e-02]]\n"
     ]
    }
   ],
   "source": [
    "initial_types = [('input', FloatTensorType((None, X_digits.shape[1])))]\n",
    "model_onnx = convert_sklearn(pipe, initial_types=initial_types,\n",
    "                             target_opset=12)\n",
    "\n",
    "sess = rt.InferenceSession(model_onnx.SerializeToString(), providers=['CPUExecutionProvider'])\n",
    "print(\"skl predict_proba\")\n",
    "print(pipe.predict_proba(X_digits[:1]))\n",
    "onx_pred = sess.run(None, {'input': X_digits[:1].astype(np.float32)})[1]\n",
    "df = pd.DataFrame(onx_pred)\n",
    "print(\"onnx predict_proba\")\n",
    "print(df.values)"
   ]
  },
  {
   "cell_type": "code",
   "execution_count": 4,
   "id": "provincial-exclusion",
   "metadata": {},
   "outputs": [],
   "source": [
    "compare_objects(pipe.predict_proba(X_digits[:2]), onx_pred)\n",
    "# No exception so they are the same."
   ]
  },
  {
   "cell_type": "code",
   "execution_count": 31,
   "id": "recent-service",
   "metadata": {},
   "outputs": [
    {
     "name": "stdout",
     "output_type": "stream",
     "text": [
      "scikit-learn\n",
      "0.8962942810030654\n",
      "onnxruntime\n",
      "0.14418294301140122\n"
     ]
    }
   ],
   "source": [
    "print(\"scikit-learn\")\n",
    "print(timeit(\"pipe.predict_proba(X_digits[:1])\",\n",
    "             number=10000, globals=globals()))\n",
    "print(\"onnxruntime\")\n",
    "print(timeit(\"sess.run(None, {'input': X_digits[:1].astype(np.float32)})\",\n",
    "             number=10000, globals=globals()))"
   ]
  },
  {
   "cell_type": "markdown",
   "id": "gothic-globe",
   "metadata": {},
   "source": [
    "### Multi core"
   ]
  },
  {
   "cell_type": "code",
   "execution_count": 7,
   "id": "chubby-partner",
   "metadata": {},
   "outputs": [],
   "source": [
    "from joblib import Parallel"
   ]
  },
  {
   "cell_type": "code",
   "execution_count": null,
   "id": "adjustable-doctor",
   "metadata": {},
   "outputs": [],
   "source": [
    "print(\"scikit-learn\")\n",
    "print(timeit(\"Parallel(n_jobs=1)(pipe.predict_proba(X_digits[:1]))\",\n",
    "             number=10000, globals=globals()))"
   ]
  },
  {
   "cell_type": "code",
   "execution_count": 23,
   "id": "talented-chain",
   "metadata": {},
   "outputs": [
    {
     "name": "stdout",
     "output_type": "stream",
     "text": [
      "(797,)\n"
     ]
    }
   ],
   "source": [
    "\n",
    "X_digits_test = digits.data[1000:]\n",
    "y_digits_test = digits.target[1000:]\n"
   ]
  },
  {
   "cell_type": "code",
   "execution_count": 25,
   "id": "hydraulic-graphics",
   "metadata": {},
   "outputs": [
    {
     "name": "stdout",
     "output_type": "stream",
     "text": [
      "[ 0.  0.  5. 13.  9.  1.  0.  0.  0.  0. 13. 15. 10. 15.  5.  0.  0.  3.\n",
      " 15.  2.  0. 11.  8.  0.  0.  4. 12.  0.  0.  8.  8.  0.  0.  5.  8.  0.\n",
      "  0.  9.  8.  0.  0.  4. 11.  0.  1. 12.  7.  0.  0.  2. 14.  5. 10. 12.\n",
      "  0.  0.  0.  0.  6. 13. 10.  0.  0.  0.]\n"
     ]
    }
   ],
   "source": [
    "print(X_digits[0])"
   ]
  },
  {
   "cell_type": "code",
   "execution_count": 20,
   "id": "built-journalist",
   "metadata": {},
   "outputs": [
    {
     "data": {
      "text/plain": [
       "<matplotlib.figure.Figure at 0x7f9bdd847d68>"
      ]
     },
     "metadata": {},
     "output_type": "display_data"
    },
    {
     "data": {
      "image/png": "[encoded data removed]",
      "text/plain": [
       "<matplotlib.figure.Figure at 0x7f9bdd847dd8>"
      ]
     },
     "metadata": {
      "needs_background": "light"
     },
     "output_type": "display_data"
    }
   ],
   "source": [
    "import matplotlib.pyplot as plt \n",
    "%matplotlib inline\n",
    "plt.gray() \n",
    "plt.matshow(X_digits[:1]) \n",
    "plt.show() "
   ]
  },
  {
   "cell_type": "code",
   "execution_count": 67,
   "id": "monetary-russell",
   "metadata": {},
   "outputs": [],
   "source": [
    "def run():\n",
    "    for i in range(10000):\n",
    "        #sess.run(None, {'input': i.reshape(1,64).astype(np.float32)})\n",
    "        pipe.predict_proba(X_digits[:1])\n"
   ]
  },
  {
   "cell_type": "code",
   "execution_count": 75,
   "id": "vital-arena",
   "metadata": {},
   "outputs": [
    {
     "name": "stderr",
     "output_type": "stream",
     "text": [
      "/usr/local/lib/python3.6/dist-packages/sklearn/linear_model/logistic.py:432: FutureWarning: Default solver will be changed to 'lbfgs' in 0.22. Specify a solver to silence this warning.\n",
      "  FutureWarning)\n",
      "/usr/local/lib/python3.6/dist-packages/sklearn/linear_model/logistic.py:459: FutureWarning: Default multi_class will be changed to 'auto' in 0.22. Specify the multi_class option to silence this warning.\n",
      "  \"this warning.\", FutureWarning)\n"
     ]
    },
    {
     "name": "stdout",
     "output_type": "stream",
     "text": [
      "0.3110370829817839\n"
     ]
    }
   ],
   "source": [
    "import timeit\n",
    "starttime = timeit.default_timer()\n",
    "#run()\n",
    "pipe.fit(X_digits, y_digits)\n",
    "print(timeit.default_timer() - starttime)\n",
    "    \n",
    "#print(timeit(\"sess.run(None, {'input': i.reshape(1,64).astype(np.float32)}) for i in X_digits_test\"))"
   ]
  },
  {
   "cell_type": "code",
   "execution_count": 74,
   "id": "welcome-industry",
   "metadata": {},
   "outputs": [
    {
     "name": "stderr",
     "output_type": "stream",
     "text": [
      "/usr/local/lib/python3.6/dist-packages/sklearn/linear_model/logistic.py:432: FutureWarning: Default solver will be changed to 'lbfgs' in 0.22. Specify a solver to silence this warning.\n",
      "  FutureWarning)\n",
      "/usr/local/lib/python3.6/dist-packages/sklearn/linear_model/logistic.py:459: FutureWarning: Default multi_class will be changed to 'auto' in 0.22. Specify the multi_class option to silence this warning.\n",
      "  \"this warning.\", FutureWarning)\n"
     ]
    },
    {
     "name": "stdout",
     "output_type": "stream",
     "text": [
      "0.3164679599867668\n"
     ]
    }
   ],
   "source": [
    "from joblib import parallel_backend\n",
    "\n",
    "starttime = timeit.default_timer()\n",
    "with parallel_backend('threading', n_jobs=8):\n",
    "    #run()\n",
    "    pipe.fit(X_digits, y_digits)\n",
    "print(timeit.default_timer() - starttime)"
   ]
  },
  {
   "cell_type": "code",
   "execution_count": null,
   "id": "registered-patrick",
   "metadata": {},
   "outputs": [],
   "source": []
  },
  {
   "cell_type": "code",
   "execution_count": 32,
   "id": "played-motion",
   "metadata": {},
   "outputs": [
    {
     "data": {
      "text/plain": [
       "array([[ 0.,  0.,  5., 13.,  9.,  1.,  0.,  0.,  0.,  0., 13., 15., 10.,\n",
       "        15.,  5.,  0.,  0.,  3., 15.,  2.,  0., 11.,  8.,  0.,  0.,  4.,\n",
       "        12.,  0.,  0.,  8.,  8.,  0.,  0.,  5.,  8.,  0.,  0.,  9.,  8.,\n",
       "         0.,  0.,  4., 11.,  0.,  1., 12.,  7.,  0.,  0.,  2., 14.,  5.,\n",
       "        10., 12.,  0.,  0.,  0.,  0.,  6., 13., 10.,  0.,  0.,  0.]],\n",
       "      dtype=float32)"
      ]
     },
     "execution_count": 32,
     "metadata": {},
     "output_type": "execute_result"
    }
   ],
   "source": [
    "X_digits[:1].astype(np.float32)"
   ]
  },
  {
   "cell_type": "code",
   "execution_count": 34,
   "id": "included-edgar",
   "metadata": {},
   "outputs": [
    {
     "data": {
      "text/plain": [
       "array([[ 0.,  0.,  1., 14.,  2.,  0.,  0.,  0.,  0.,  0.,  0., 16.,  5.,\n",
       "         0.,  0.,  0.,  0.,  0.,  0., 14., 10.,  0.,  0.,  0.,  0.,  0.,\n",
       "         0., 11., 16.,  1.,  0.,  0.,  0.,  0.,  0.,  3., 14.,  6.,  0.,\n",
       "         0.,  0.,  0.,  0.,  0.,  8., 12.,  0.,  0.,  0.,  0., 10., 14.,\n",
       "        13., 16.,  8.,  3.,  0.,  0.,  2., 11., 12., 15., 16., 15.]],\n",
       "      dtype=float32)"
      ]
     },
     "execution_count": 34,
     "metadata": {},
     "output_type": "execute_result"
    }
   ],
   "source": [
    "X_digits_test[:1].astype(np.float32)"
   ]
  },
  {
   "cell_type": "code",
   "execution_count": 41,
   "id": "convenient-nerve",
   "metadata": {},
   "outputs": [
    {
     "data": {
      "text/plain": [
       "(1000, 64)"
      ]
     },
     "execution_count": 41,
     "metadata": {},
     "output_type": "execute_result"
    }
   ],
   "source": [
    "X_digits.shape"
   ]
  },
  {
   "cell_type": "code",
   "execution_count": null,
   "id": "graduate-second",
   "metadata": {},
   "outputs": [],
   "source": []
  }
 ],
 "metadata": {
  "kernelspec": {
   "display_name": "Python 3",
   "language": "python",
   "name": "python3"
  },
  "language_info": {
   "codemirror_mode": {
    "name": "ipython",
    "version": 3
   },
   "file_extension": ".py",
   "mimetype": "text/x-python",
   "name": "python",
   "nbconvert_exporter": "python",
   "pygments_lexer": "ipython3",
   "version": "3.6.9"
  }
 },
 "nbformat": 4,
 "nbformat_minor": 5
}
