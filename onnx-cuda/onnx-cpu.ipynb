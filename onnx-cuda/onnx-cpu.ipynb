{
 "cells": [
  {
   "cell_type": "code",
   "execution_count": 2,
   "id": "completed-boston",
   "metadata": {},
   "outputs": [
    {
     "data": {
      "text/plain": [
       "'GPU'"
      ]
     },
     "execution_count": 2,
     "metadata": {},
     "output_type": "execute_result"
    }
   ],
   "source": [
    "import onnxruntime as ort\n",
    "ort.get_device()"
   ]
  },
  {
   "cell_type": "code",
   "execution_count": 3,
   "id": "clinical-wesley",
   "metadata": {},
   "outputs": [
    {
     "name": "stderr",
     "output_type": "stream",
     "text": [
      "/usr/local/lib/python3.6/dist-packages/sklearn/linear_model/logistic.py:432: FutureWarning: Default solver will be changed to 'lbfgs' in 0.22. Specify a solver to silence this warning.\n",
      "  FutureWarning)\n",
      "/usr/local/lib/python3.6/dist-packages/sklearn/linear_model/logistic.py:459: FutureWarning: Default multi_class will be changed to 'auto' in 0.22. Specify the multi_class option to silence this warning.\n",
      "  \"this warning.\", FutureWarning)\n"
     ]
    },
    {
     "data": {
      "text/plain": [
       "Pipeline(memory=None,\n",
       "     steps=[('pca', PCA(copy=True, iterated_power='auto', n_components=None, random_state=None,\n",
       "  svd_solver='auto', tol=0.0, whiten=False)), ('logistic', LogisticRegression(C=1.0, class_weight=None, dual=False, fit_intercept=True,\n",
       "          intercept_scaling=1, max_iter=100, multi_class='warn',\n",
       "          n_jobs=None, penalty='l2', random_state=None, solver='warn',\n",
       "          tol=0.0001, verbose=0, warm_start=False))])"
      ]
     },
     "execution_count": 3,
     "metadata": {},
     "output_type": "execute_result"
    }
   ],
   "source": [
    "import onnx\n",
    "import numpy\n",
    "from skl2onnx.helpers import collect_intermediate_steps, compare_objects\n",
    "from timeit import timeit\n",
    "import onnxruntime as rt\n",
    "from onnxconverter_common.data_types import FloatTensorType\n",
    "from skl2onnx import convert_sklearn, __version__\n",
    "import numpy as np\n",
    "import pandas as pd\n",
    "\n",
    "from sklearn import datasets, __version__ as skl_version\n",
    "from sklearn.decomposition import PCA\n",
    "from sklearn.linear_model import LogisticRegression\n",
    "from sklearn.pipeline import Pipeline\n",
    "\n",
    "logistic = LogisticRegression()\n",
    "pca = PCA()\n",
    "pipe = Pipeline(steps=[('pca', pca), ('logistic', logistic)])\n",
    "\n",
    "digits = datasets.load_digits()\n",
    "X_digits = digits.data[:1000]\n",
    "y_digits = digits.target[:1000]\n",
    "\n",
    "pipe.fit(X_digits, y_digits)"
   ]
  },
  {
   "cell_type": "markdown",
   "id": "altered-thermal",
   "metadata": {},
   "source": [
    "### CPU Execution env"
   ]
  },
  {
   "cell_type": "code",
   "execution_count": 4,
   "id": "occupied-recipe",
   "metadata": {},
   "outputs": [
    {
     "name": "stdout",
     "output_type": "stream",
     "text": [
      "skl predict_proba\n",
      "[[9.60391089e-01 2.32822583e-07 7.32337678e-04 1.46696345e-02\n",
      "  5.59314384e-03 5.01685254e-04 7.49111880e-04 3.26559561e-03\n",
      "  2.91410795e-04 1.38057590e-02]\n",
      " [2.00445372e-05 9.77887644e-01 5.29132862e-03 5.66014168e-04\n",
      "  1.04206419e-02 1.53761203e-03 1.33897741e-03 1.31632792e-04\n",
      "  2.68038846e-03 1.25716002e-04]]\n",
      "onnx predict_proba\n",
      "[[9.60390985e-01 2.00624967e-07 7.32338463e-04 1.46696689e-02\n",
      "  5.59316622e-03 5.01648406e-04 7.49133644e-04 3.26562976e-03\n",
      "  2.91393430e-04 1.38057200e-02]\n",
      " [2.00123977e-05 9.77887571e-01 5.29132457e-03 5.66035800e-04\n",
      "  1.04206540e-02 1.53757061e-03 1.33896351e-03 1.31685068e-04\n",
      "  2.68034847e-03 1.25733859e-04]]\n"
     ]
    }
   ],
   "source": [
    "initial_types = [('input', FloatTensorType((None, X_digits.shape[1])))]\n",
    "model_onnx = convert_sklearn(pipe, initial_types=initial_types,\n",
    "                             target_opset=12)\n",
    "\n",
    "sess = rt.InferenceSession(model_onnx.SerializeToString(), providers=['CPUExecutionProvider'])\n",
    "print(\"skl predict_proba\")\n",
    "print(pipe.predict_proba(X_digits[:2]))\n",
    "onx_pred = sess.run(None, {'input': X_digits[:2].astype(np.float32)})[1]\n",
    "df = pd.DataFrame(onx_pred)\n",
    "print(\"onnx predict_proba\")\n",
    "print(df.values)"
   ]
  },
  {
   "cell_type": "code",
   "execution_count": 5,
   "id": "provincial-exclusion",
   "metadata": {},
   "outputs": [],
   "source": [
    "compare_objects(pipe.predict_proba(X_digits[:2]), onx_pred)\n",
    "# No exception so they are the same."
   ]
  },
  {
   "cell_type": "code",
   "execution_count": 6,
   "id": "recent-service",
   "metadata": {},
   "outputs": [
    {
     "name": "stdout",
     "output_type": "stream",
     "text": [
      "scikit-learn\n",
      "0.9679606409627013\n",
      "onnxruntime\n",
      "0.15207497600931674\n"
     ]
    }
   ],
   "source": [
    "print(\"scikit-learn\")\n",
    "print(timeit(\"pipe.predict_proba(X_digits[:1])\",\n",
    "             number=10000, globals=globals()))\n",
    "print(\"onnxruntime\")\n",
    "print(timeit(\"sess.run(None, {'input': X_digits[:1].astype(np.float32)})[1]\",\n",
    "             number=10000, globals=globals()))"
   ]
  },
  {
   "cell_type": "code",
   "execution_count": null,
   "id": "center-majority",
   "metadata": {},
   "outputs": [],
   "source": []
  }
 ],
 "metadata": {
  "kernelspec": {
   "display_name": "Python 3",
   "language": "python",
   "name": "python3"
  },
  "language_info": {
   "codemirror_mode": {
    "name": "ipython",
    "version": 3
   },
   "file_extension": ".py",
   "mimetype": "text/x-python",
   "name": "python",
   "nbconvert_exporter": "python",
   "pygments_lexer": "ipython3",
   "version": "3.6.9"
  }
 },
 "nbformat": 4,
 "nbformat_minor": 5
}
